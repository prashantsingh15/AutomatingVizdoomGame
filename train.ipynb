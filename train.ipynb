{
 "cells": [
  {
   "cell_type": "markdown",
   "source": [
    "# SETUP VIZDOOM FOR PYTHON"
   ],
   "metadata": {
    "collapsed": false
   },
   "id": "da2a728fd74bd210"
  },
  {
   "cell_type": "code",
   "outputs": [
    {
     "name": "stdout",
     "output_type": "stream",
     "text": [
      "Collecting vizdoom\n",
      "  Obtaining dependency information for vizdoom from https://files.pythonhosted.org/packages/89/8c/797786b5523deba5c9b21adead674a3f47dd5f15ec65d4379de5ffd81566/vizdoom-1.2.3-cp311-cp311-win_amd64.whl.metadata\n",
      "  Downloading vizdoom-1.2.3-cp311-cp311-win_amd64.whl.metadata (11 kB)\n",
      "Requirement already satisfied: numpy in c:\\users\\bunty\\anaconda3\\lib\\site-packages (from vizdoom) (1.24.3)\n",
      "Collecting gymnasium>=0.28.0 (from vizdoom)\n",
      "  Obtaining dependency information for gymnasium>=0.28.0 from https://files.pythonhosted.org/packages/a8/4d/3cbfd81ed84db450dbe73a89afcd8bc405273918415649ac6683356afe92/gymnasium-0.29.1-py3-none-any.whl.metadata\n",
      "  Downloading gymnasium-0.29.1-py3-none-any.whl.metadata (10 kB)\n",
      "Collecting pygame>=2.1.3 (from vizdoom)\n",
      "  Obtaining dependency information for pygame>=2.1.3 from https://files.pythonhosted.org/packages/82/61/93ae7afbd931a70510cfdf0a7bb0007540020b8d80bc1d8762ebdc46479b/pygame-2.5.2-cp311-cp311-win_amd64.whl.metadata\n",
      "  Downloading pygame-2.5.2-cp311-cp311-win_amd64.whl.metadata (13 kB)\n",
      "Requirement already satisfied: cloudpickle>=1.2.0 in c:\\users\\bunty\\anaconda3\\lib\\site-packages (from gymnasium>=0.28.0->vizdoom) (2.2.1)\n",
      "Requirement already satisfied: typing-extensions>=4.3.0 in c:\\users\\bunty\\anaconda3\\lib\\site-packages (from gymnasium>=0.28.0->vizdoom) (4.9.0)\n",
      "Collecting farama-notifications>=0.0.1 (from gymnasium>=0.28.0->vizdoom)\n",
      "  Downloading Farama_Notifications-0.0.4-py3-none-any.whl (2.5 kB)\n",
      "Downloading vizdoom-1.2.3-cp311-cp311-win_amd64.whl (15.5 MB)\n",
      "   ---------------------------------------- 0.0/15.5 MB ? eta -:--:--\n",
      "   ---------------------------------------- 0.0/15.5 MB 1.3 MB/s eta 0:00:13\n",
      "   ---------------------------------------- 0.1/15.5 MB 2.1 MB/s eta 0:00:08\n",
      "    --------------------------------------- 0.3/15.5 MB 3.1 MB/s eta 0:00:05\n",
      "   - -------------------------------------- 0.6/15.5 MB 3.6 MB/s eta 0:00:05\n",
      "   - -------------------------------------- 0.7/15.5 MB 3.5 MB/s eta 0:00:05\n",
      "   -- ------------------------------------- 0.9/15.5 MB 3.6 MB/s eta 0:00:04\n",
      "   -- ------------------------------------- 1.0/15.5 MB 3.7 MB/s eta 0:00:04\n",
      "   -- ------------------------------------- 1.0/15.5 MB 3.7 MB/s eta 0:00:04\n",
      "   -- ------------------------------------- 1.1/15.5 MB 2.8 MB/s eta 0:00:06\n",
      "   --- ------------------------------------ 1.4/15.5 MB 3.2 MB/s eta 0:00:05\n",
      "   ---- ----------------------------------- 1.7/15.5 MB 3.4 MB/s eta 0:00:05\n",
      "   ----- ---------------------------------- 1.9/15.5 MB 3.6 MB/s eta 0:00:04\n",
      "   ----- ---------------------------------- 2.1/15.5 MB 3.7 MB/s eta 0:00:04\n",
      "   ----- ---------------------------------- 2.1/15.5 MB 3.7 MB/s eta 0:00:04\n",
      "   ----- ---------------------------------- 2.1/15.5 MB 3.7 MB/s eta 0:00:04\n",
      "   ----- ---------------------------------- 2.1/15.5 MB 3.7 MB/s eta 0:00:04\n",
      "   ----- ---------------------------------- 2.1/15.5 MB 3.7 MB/s eta 0:00:04\n",
      "   ----- ---------------------------------- 2.1/15.5 MB 3.7 MB/s eta 0:00:04\n",
      "   ----- ---------------------------------- 2.1/15.5 MB 3.7 MB/s eta 0:00:04\n",
      "   ------ --------------------------------- 2.4/15.5 MB 2.6 MB/s eta 0:00:05\n",
      "   ------ --------------------------------- 2.5/15.5 MB 2.6 MB/s eta 0:00:05\n",
      "   ------- -------------------------------- 2.8/15.5 MB 2.8 MB/s eta 0:00:05\n",
      "   ------- -------------------------------- 3.1/15.5 MB 2.9 MB/s eta 0:00:05\n",
      "   --------- ------------------------------ 3.5/15.5 MB 3.2 MB/s eta 0:00:04\n",
      "   ---------- ----------------------------- 3.9/15.5 MB 3.4 MB/s eta 0:00:04\n",
      "   ---------- ----------------------------- 4.2/15.5 MB 3.5 MB/s eta 0:00:04\n",
      "   ---------- ----------------------------- 4.2/15.5 MB 3.5 MB/s eta 0:00:04\n",
      "   ---------- ----------------------------- 4.2/15.5 MB 3.5 MB/s eta 0:00:04\n",
      "   ---------- ----------------------------- 4.2/15.5 MB 3.5 MB/s eta 0:00:04\n",
      "   ---------- ----------------------------- 4.2/15.5 MB 3.5 MB/s eta 0:00:04\n",
      "   ---------- ----------------------------- 4.2/15.5 MB 3.5 MB/s eta 0:00:04\n",
      "   ---------- ----------------------------- 4.2/15.5 MB 3.5 MB/s eta 0:00:04\n",
      "   ---------- ----------------------------- 4.2/15.5 MB 3.5 MB/s eta 0:00:04\n",
      "   ---------- ----------------------------- 4.2/15.5 MB 3.5 MB/s eta 0:00:04\n",
      "   ---------- ----------------------------- 4.2/15.5 MB 3.5 MB/s eta 0:00:04\n",
      "   ---------- ----------------------------- 4.2/15.5 MB 3.5 MB/s eta 0:00:04\n",
      "   ---------- ----------------------------- 4.2/15.5 MB 3.5 MB/s eta 0:00:04\n",
      "   ---------- ----------------------------- 4.2/15.5 MB 3.5 MB/s eta 0:00:04\n",
      "   ---------- ----------------------------- 4.2/15.5 MB 3.5 MB/s eta 0:00:04\n",
      "   ---------- ----------------------------- 4.2/15.5 MB 3.5 MB/s eta 0:00:04\n",
      "   ---------- ----------------------------- 4.2/15.5 MB 3.5 MB/s eta 0:00:04\n",
      "   ---------- ----------------------------- 4.2/15.5 MB 3.5 MB/s eta 0:00:04\n",
      "   ---------- ----------------------------- 4.2/15.5 MB 3.5 MB/s eta 0:00:04\n",
      "   ---------- ----------------------------- 4.2/15.5 MB 3.5 MB/s eta 0:00:04\n",
      "   ----------- ---------------------------- 4.6/15.5 MB 2.2 MB/s eta 0:00:05\n",
      "   ------------ --------------------------- 4.8/15.5 MB 2.2 MB/s eta 0:00:05\n",
      "   ------------- -------------------------- 5.0/15.5 MB 2.3 MB/s eta 0:00:05\n",
      "   ------------- -------------------------- 5.2/15.5 MB 2.4 MB/s eta 0:00:05\n",
      "   ------------- -------------------------- 5.4/15.5 MB 2.4 MB/s eta 0:00:05\n",
      "   -------------- ------------------------- 5.7/15.5 MB 2.4 MB/s eta 0:00:05\n",
      "   --------------- ------------------------ 6.0/15.5 MB 2.5 MB/s eta 0:00:04\n",
      "   ---------------- ----------------------- 6.2/15.5 MB 2.6 MB/s eta 0:00:04\n",
      "   ---------------- ----------------------- 6.3/15.5 MB 2.6 MB/s eta 0:00:04\n",
      "   ---------------- ----------------------- 6.3/15.5 MB 2.6 MB/s eta 0:00:04\n",
      "   ---------------- ----------------------- 6.3/15.5 MB 2.6 MB/s eta 0:00:04\n",
      "   ---------------- ----------------------- 6.3/15.5 MB 2.6 MB/s eta 0:00:04\n",
      "   ---------------- ----------------------- 6.3/15.5 MB 2.6 MB/s eta 0:00:04\n",
      "   ---------------- ----------------------- 6.3/15.5 MB 2.6 MB/s eta 0:00:04\n",
      "   ---------------- ----------------------- 6.3/15.5 MB 2.6 MB/s eta 0:00:04\n",
      "   ---------------- ----------------------- 6.3/15.5 MB 2.6 MB/s eta 0:00:04\n",
      "   ---------------- ----------------------- 6.3/15.5 MB 2.6 MB/s eta 0:00:04\n",
      "   ---------------- ----------------------- 6.3/15.5 MB 2.6 MB/s eta 0:00:04\n",
      "   ---------------- ----------------------- 6.3/15.5 MB 2.6 MB/s eta 0:00:04\n",
      "   ---------------- ----------------------- 6.3/15.5 MB 2.6 MB/s eta 0:00:04\n",
      "   ----------------- ---------------------- 6.7/15.5 MB 2.2 MB/s eta 0:00:05\n",
      "   ----------------- ---------------------- 6.8/15.5 MB 2.2 MB/s eta 0:00:04\n",
      "   ------------------ --------------------- 7.0/15.5 MB 2.2 MB/s eta 0:00:04\n",
      "   ------------------ --------------------- 7.2/15.5 MB 2.3 MB/s eta 0:00:04\n",
      "   ------------------- -------------------- 7.4/15.5 MB 2.3 MB/s eta 0:00:04\n",
      "   ------------------- -------------------- 7.6/15.5 MB 2.3 MB/s eta 0:00:04\n",
      "   -------------------- ------------------- 7.8/15.5 MB 2.4 MB/s eta 0:00:04\n",
      "   -------------------- ------------------- 8.0/15.5 MB 2.4 MB/s eta 0:00:04\n",
      "   --------------------- ------------------ 8.2/15.5 MB 2.4 MB/s eta 0:00:04\n",
      "   --------------------- ------------------ 8.4/15.5 MB 2.4 MB/s eta 0:00:03\n",
      "   --------------------- ------------------ 8.5/15.5 MB 2.4 MB/s eta 0:00:03\n",
      "   ---------------------- ----------------- 8.7/15.5 MB 2.4 MB/s eta 0:00:03\n",
      "   ----------------------- ---------------- 8.9/15.5 MB 2.5 MB/s eta 0:00:03\n",
      "   ----------------------- ---------------- 9.1/15.5 MB 2.5 MB/s eta 0:00:03\n",
      "   ------------------------ --------------- 9.3/15.5 MB 2.5 MB/s eta 0:00:03\n",
      "   ------------------------ --------------- 9.6/15.5 MB 2.6 MB/s eta 0:00:03\n",
      "   ------------------------- -------------- 9.8/15.5 MB 2.6 MB/s eta 0:00:03\n",
      "   ------------------------- -------------- 10.0/15.5 MB 2.6 MB/s eta 0:00:03\n",
      "   -------------------------- ------------- 10.2/15.5 MB 2.6 MB/s eta 0:00:03\n",
      "   -------------------------- ------------- 10.4/15.5 MB 2.7 MB/s eta 0:00:02\n",
      "   --------------------------- ------------ 10.6/15.5 MB 2.7 MB/s eta 0:00:02\n",
      "   --------------------------- ------------ 10.8/15.5 MB 2.7 MB/s eta 0:00:02\n",
      "   ---------------------------- ----------- 11.0/15.5 MB 2.7 MB/s eta 0:00:02\n",
      "   ----------------------------- ---------- 11.3/15.5 MB 2.8 MB/s eta 0:00:02\n",
      "   ----------------------------- ---------- 11.5/15.5 MB 2.7 MB/s eta 0:00:02\n",
      "   ----------------------------- ---------- 11.5/15.5 MB 2.7 MB/s eta 0:00:02\n",
      "   ------------------------------ --------- 11.7/15.5 MB 2.7 MB/s eta 0:00:02\n",
      "   ------------------------------ --------- 12.0/15.5 MB 2.7 MB/s eta 0:00:02\n",
      "   ------------------------------- -------- 12.1/15.5 MB 2.7 MB/s eta 0:00:02\n",
      "   -------------------------------- ------- 12.4/15.5 MB 2.9 MB/s eta 0:00:02\n",
      "   -------------------------------- ------- 12.6/15.5 MB 2.9 MB/s eta 0:00:02\n",
      "   -------------------------------- ------- 12.7/15.5 MB 2.9 MB/s eta 0:00:01\n",
      "   --------------------------------- ------ 12.9/15.5 MB 2.9 MB/s eta 0:00:01\n",
      "   ---------------------------------- ----- 13.1/15.5 MB 2.9 MB/s eta 0:00:01\n",
      "   ---------------------------------- ----- 13.4/15.5 MB 2.9 MB/s eta 0:00:01\n",
      "   ----------------------------------- ---- 13.6/15.5 MB 2.9 MB/s eta 0:00:01\n",
      "   ----------------------------------- ---- 13.7/15.5 MB 2.8 MB/s eta 0:00:01\n",
      "   ----------------------------------- ---- 13.9/15.5 MB 2.8 MB/s eta 0:00:01\n",
      "   ------------------------------------ --- 14.1/15.5 MB 2.8 MB/s eta 0:00:01\n",
      "   ------------------------------------- -- 14.3/15.5 MB 2.8 MB/s eta 0:00:01\n",
      "   ------------------------------------- -- 14.5/15.5 MB 3.6 MB/s eta 0:00:01\n",
      "   -------------------------------------- - 14.8/15.5 MB 3.5 MB/s eta 0:00:01\n",
      "   -------------------------------------- - 15.0/15.5 MB 3.6 MB/s eta 0:00:01\n",
      "   ---------------------------------------  15.2/15.5 MB 3.6 MB/s eta 0:00:01\n",
      "   ---------------------------------------  15.4/15.5 MB 3.5 MB/s eta 0:00:01\n",
      "   ---------------------------------------- 15.5/15.5 MB 3.5 MB/s eta 0:00:00\n",
      "Downloading gymnasium-0.29.1-py3-none-any.whl (953 kB)\n",
      "   ---------------------------------------- 0.0/953.9 kB ? eta -:--:--\n",
      "   ---------- ----------------------------- 256.0/953.9 kB 5.2 MB/s eta 0:00:01\n",
      "   ------------------- -------------------- 460.8/953.9 kB 4.8 MB/s eta 0:00:01\n",
      "   ---------------------------- ----------- 675.8/953.9 kB 4.7 MB/s eta 0:00:01\n",
      "   ---------------------------------------  952.3/953.9 kB 5.0 MB/s eta 0:00:01\n",
      "   ---------------------------------------- 953.9/953.9 kB 5.0 MB/s eta 0:00:00\n",
      "Downloading pygame-2.5.2-cp311-cp311-win_amd64.whl (10.8 MB)\n",
      "   ---------------------------------------- 0.0/10.8 MB ? eta -:--:--\n",
      "    --------------------------------------- 0.3/10.8 MB 7.9 MB/s eta 0:00:02\n",
      "   - -------------------------------------- 0.5/10.8 MB 5.6 MB/s eta 0:00:02\n",
      "   -- ------------------------------------- 0.7/10.8 MB 5.7 MB/s eta 0:00:02\n",
      "   --- ------------------------------------ 0.9/10.8 MB 5.4 MB/s eta 0:00:02\n",
      "   ---- ----------------------------------- 1.2/10.8 MB 5.1 MB/s eta 0:00:02\n",
      "   ----- ---------------------------------- 1.5/10.8 MB 5.5 MB/s eta 0:00:02\n",
      "   ------ --------------------------------- 1.7/10.8 MB 5.4 MB/s eta 0:00:02\n",
      "   ------- -------------------------------- 2.0/10.8 MB 5.5 MB/s eta 0:00:02\n",
      "   -------- ------------------------------- 2.3/10.8 MB 5.6 MB/s eta 0:00:02\n",
      "   --------- ------------------------------ 2.5/10.8 MB 5.6 MB/s eta 0:00:02\n",
      "   ---------- ----------------------------- 2.8/10.8 MB 5.6 MB/s eta 0:00:02\n",
      "   ----------- ---------------------------- 3.0/10.8 MB 5.4 MB/s eta 0:00:02\n",
      "   ------------ --------------------------- 3.3/10.8 MB 5.5 MB/s eta 0:00:02\n",
      "   ------------- -------------------------- 3.6/10.8 MB 5.6 MB/s eta 0:00:02\n",
      "   -------------- ------------------------- 3.9/10.8 MB 5.6 MB/s eta 0:00:02\n",
      "   --------------- ------------------------ 4.1/10.8 MB 5.5 MB/s eta 0:00:02\n",
      "   ---------------- ----------------------- 4.3/10.8 MB 5.5 MB/s eta 0:00:02\n",
      "   ----------------- ---------------------- 4.6/10.8 MB 5.6 MB/s eta 0:00:02\n",
      "   ------------------ --------------------- 4.9/10.8 MB 5.5 MB/s eta 0:00:02\n",
      "   ------------------- -------------------- 5.2/10.8 MB 5.6 MB/s eta 0:00:02\n",
      "   -------------------- ------------------- 5.4/10.8 MB 5.6 MB/s eta 0:00:01\n",
      "   --------------------- ------------------ 5.7/10.8 MB 5.6 MB/s eta 0:00:01\n",
      "   ---------------------- ----------------- 5.9/10.8 MB 5.6 MB/s eta 0:00:01\n",
      "   ----------------------- ---------------- 6.2/10.8 MB 5.6 MB/s eta 0:00:01\n",
      "   ------------------------ --------------- 6.5/10.8 MB 5.6 MB/s eta 0:00:01\n",
      "   ------------------------- -------------- 6.7/10.8 MB 5.6 MB/s eta 0:00:01\n",
      "   -------------------------- ------------- 7.0/10.8 MB 5.6 MB/s eta 0:00:01\n",
      "   --------------------------- ------------ 7.3/10.8 MB 5.6 MB/s eta 0:00:01\n",
      "   ---------------------------- ----------- 7.6/10.8 MB 5.7 MB/s eta 0:00:01\n",
      "   ---------------------------- ----------- 7.7/10.8 MB 5.7 MB/s eta 0:00:01\n",
      "   ----------------------------- ---------- 7.9/10.8 MB 5.5 MB/s eta 0:00:01\n",
      "   ------------------------------ --------- 8.2/10.8 MB 5.5 MB/s eta 0:00:01\n",
      "   ------------------------------- -------- 8.5/10.8 MB 5.5 MB/s eta 0:00:01\n",
      "   -------------------------------- ------- 8.7/10.8 MB 5.5 MB/s eta 0:00:01\n",
      "   --------------------------------- ------ 9.0/10.8 MB 5.6 MB/s eta 0:00:01\n",
      "   ---------------------------------- ----- 9.3/10.8 MB 5.6 MB/s eta 0:00:01\n",
      "   ----------------------------------- ---- 9.5/10.8 MB 5.5 MB/s eta 0:00:01\n",
      "   ------------------------------------ --- 9.7/10.8 MB 5.5 MB/s eta 0:00:01\n",
      "   ------------------------------------- -- 10.1/10.8 MB 5.5 MB/s eta 0:00:01\n",
      "   -------------------------------------- - 10.3/10.8 MB 5.6 MB/s eta 0:00:01\n",
      "   ---------------------------------------  10.6/10.8 MB 5.5 MB/s eta 0:00:01\n",
      "   ---------------------------------------- 10.8/10.8 MB 5.5 MB/s eta 0:00:00\n",
      "Installing collected packages: farama-notifications, pygame, gymnasium, vizdoom\n",
      "Successfully installed farama-notifications-0.0.4 gymnasium-0.29.1 pygame-2.5.2 vizdoom-1.2.3\n"
     ]
    }
   ],
   "source": [
    "from typing import Tuple\n",
    "\n",
    "from gym.core import ActType, ObsType\n",
    "!pip install vizdoom"
   ],
   "metadata": {
    "collapsed": false,
    "ExecuteTime": {
     "end_time": "2024-01-18T04:07:05.667833Z",
     "start_time": "2024-01-18T04:06:47.892810200Z"
    }
   },
   "id": "f18dc4a638bd1862",
   "execution_count": 18
  },
  {
   "cell_type": "code",
   "outputs": [
    {
     "name": "stderr",
     "output_type": "stream",
     "text": [
      "Cloning into 'ViZDoom'...\n",
      "Updating files:  48% (997/2063)\n",
      "Updating files:  49% (1011/2063)\n",
      "Updating files:  50% (1032/2063)\n",
      "Updating files:  51% (1053/2063)\n",
      "Updating files:  52% (1073/2063)\n",
      "Updating files:  53% (1094/2063)\n",
      "Updating files:  54% (1115/2063)\n",
      "Updating files:  55% (1135/2063)\n",
      "Updating files:  56% (1156/2063)\n",
      "Updating files:  57% (1176/2063)\n",
      "Updating files:  58% (1197/2063)\n",
      "Updating files:  59% (1218/2063)\n",
      "Updating files:  60% (1238/2063)\n",
      "Updating files:  61% (1259/2063)\n",
      "Updating files:  62% (1280/2063)\n",
      "Updating files:  63% (1300/2063)\n",
      "Updating files:  64% (1321/2063)\n",
      "Updating files:  65% (1341/2063)\n",
      "Updating files:  66% (1362/2063)\n",
      "Updating files:  67% (1383/2063)\n",
      "Updating files:  68% (1403/2063)\n",
      "Updating files:  69% (1424/2063)\n",
      "Updating files:  70% (1445/2063)\n",
      "Updating files:  71% (1465/2063)\n",
      "Updating files:  72% (1486/2063)\n",
      "Updating files:  73% (1506/2063)\n",
      "Updating files:  74% (1527/2063)\n",
      "Updating files:  75% (1548/2063)\n",
      "Updating files:  76% (1568/2063)\n",
      "Updating files:  77% (1589/2063)\n",
      "Updating files:  78% (1610/2063)\n",
      "Updating files:  79% (1630/2063)\n",
      "Updating files:  80% (1651/2063)\n",
      "Updating files:  81% (1672/2063)\n",
      "Updating files:  82% (1692/2063)\n",
      "Updating files:  83% (1713/2063)\n",
      "Updating files:  84% (1733/2063)\n",
      "Updating files:  85% (1754/2063)\n",
      "Updating files:  86% (1775/2063)\n",
      "Updating files:  87% (1795/2063)\n",
      "Updating files:  88% (1816/2063)\n",
      "Updating files:  89% (1837/2063)\n",
      "Updating files:  90% (1857/2063)\n",
      "Updating files:  91% (1878/2063)\n",
      "Updating files:  92% (1898/2063)\n",
      "Updating files:  93% (1919/2063)\n",
      "Updating files:  94% (1940/2063)\n",
      "Updating files:  95% (1960/2063)\n",
      "Updating files:  96% (1981/2063)\n",
      "Updating files:  97% (2002/2063)\n",
      "Updating files:  98% (2022/2063)\n",
      "Updating files:  99% (2043/2063)\n",
      "Updating files: 100% (2063/2063)\n",
      "Updating files: 100% (2063/2063), done.\n"
     ]
    }
   ],
   "source": [
    "!cd github & git clone https://github.com/mwydmuch/ViZDoom\n"
   ],
   "metadata": {
    "collapsed": false,
    "ExecuteTime": {
     "end_time": "2024-01-18T04:20:58.028796Z",
     "start_time": "2024-01-18T04:20:47.125072500Z"
    }
   },
   "id": "e26997dd936531e4",
   "execution_count": 20
  },
  {
   "cell_type": "code",
   "outputs": [],
   "source": [
    "# Import vizdoom for game env\n",
    "from vizdoom import * \n",
    "# Import random for action sampling\n",
    "import random\n",
    "# Import time for sleeping\n",
    "import time \n",
    "# Import numpy for identity matrix\n",
    "import numpy as np"
   ],
   "metadata": {
    "collapsed": false,
    "ExecuteTime": {
     "end_time": "2024-01-18T08:54:15.249602900Z",
     "start_time": "2024-01-18T08:54:14.674991Z"
    }
   },
   "id": "947ec1c69e2ed0ac",
   "execution_count": 1
  },
  {
   "cell_type": "code",
   "outputs": [],
   "source": [
    "game = DoomGame()\n",
    "\n",
    "game.load_config('github/VizDoom/scenarios/basic.cfg')\n",
    "game.init()"
   ],
   "metadata": {
    "collapsed": false,
    "ExecuteTime": {
     "end_time": "2024-01-18T08:54:15.964539400Z",
     "start_time": "2024-01-18T08:54:15.249602900Z"
    }
   },
   "id": "89e393935f3e623a",
   "execution_count": 2
  },
  {
   "cell_type": "code",
   "outputs": [],
   "source": [
    "actions = np.identity(3, dtype=np.uint8)\n"
   ],
   "metadata": {
    "collapsed": false,
    "ExecuteTime": {
     "end_time": "2024-01-18T08:54:20.112006800Z",
     "start_time": "2024-01-18T08:54:20.088675900Z"
    }
   },
   "id": "2f41ac8b8d2ab4bc",
   "execution_count": 3
  },
  {
   "cell_type": "code",
   "outputs": [],
   "source": [
    "state = game.get_state()"
   ],
   "metadata": {
    "collapsed": false,
    "ExecuteTime": {
     "end_time": "2024-01-18T08:54:20.736213100Z",
     "start_time": "2024-01-18T08:54:20.710912700Z"
    }
   },
   "id": "8308020d7c2b6413",
   "execution_count": 4
  },
  {
   "cell_type": "code",
   "outputs": [
    {
     "data": {
      "text/plain": "array([50.])"
     },
     "execution_count": 5,
     "metadata": {},
     "output_type": "execute_result"
    }
   ],
   "source": [
    "state.game_variables"
   ],
   "metadata": {
    "collapsed": false,
    "ExecuteTime": {
     "end_time": "2024-01-18T08:54:22.479572300Z",
     "start_time": "2024-01-18T08:54:22.466580600Z"
    }
   },
   "id": "2097dceec677f23a",
   "execution_count": 5
  },
  {
   "cell_type": "code",
   "outputs": [
    {
     "name": "stdout",
     "output_type": "stream",
     "text": [
      "reward: -4.0\n",
      "reward: 99.0\n",
      "Result: 95.0\n",
      "reward: -4.0\n",
      "reward: -4.0\n",
      "reward: -4.0\n",
      "reward: -9.0\n",
      "reward: -4.0\n",
      "reward: -4.0\n",
      "reward: -4.0\n",
      "reward: -9.0\n",
      "reward: -4.0\n",
      "reward: -4.0\n",
      "reward: -4.0\n",
      "reward: -4.0\n",
      "reward: -9.0\n",
      "reward: -4.0\n",
      "reward: -4.0\n",
      "reward: -4.0\n",
      "reward: -9.0\n",
      "reward: -4.0\n",
      "reward: -4.0\n",
      "reward: -9.0\n",
      "reward: -4.0\n",
      "reward: -4.0\n",
      "reward: -4.0\n",
      "reward: -4.0\n",
      "reward: -4.0\n",
      "reward: -4.0\n",
      "reward: -9.0\n",
      "reward: -4.0\n",
      "reward: -4.0\n",
      "reward: -9.0\n",
      "reward: -4.0\n",
      "reward: -4.0\n",
      "reward: -4.0\n",
      "reward: -9.0\n",
      "reward: -4.0\n",
      "reward: -4.0\n",
      "reward: -9.0\n",
      "reward: -4.0\n",
      "reward: -4.0\n",
      "reward: -4.0\n",
      "reward: -9.0\n",
      "reward: -4.0\n",
      "reward: -4.0\n",
      "reward: -4.0\n",
      "reward: -4.0\n",
      "reward: -9.0\n",
      "reward: -4.0\n",
      "reward: -4.0\n",
      "reward: -9.0\n",
      "reward: -4.0\n",
      "reward: -4.0\n",
      "reward: -4.0\n",
      "reward: -4.0\n",
      "reward: -4.0\n",
      "reward: -4.0\n",
      "reward: -4.0\n",
      "reward: -4.0\n",
      "reward: -9.0\n",
      "reward: -4.0\n",
      "reward: -4.0\n",
      "reward: -4.0\n",
      "reward: -9.0\n",
      "reward: -4.0\n",
      "reward: -4.0\n",
      "reward: -4.0\n",
      "reward: 98.0\n",
      "Result: -232.0\n",
      "reward: -4.0\n",
      "reward: 99.0\n",
      "Result: 95.0\n",
      "reward: -4.0\n",
      "reward: -4.0\n",
      "reward: -4.0\n",
      "reward: -4.0\n",
      "reward: -4.0\n",
      "reward: 99.0\n",
      "Result: 79.0\n",
      "reward: -4.0\n",
      "reward: -4.0\n",
      "reward: -4.0\n",
      "reward: -4.0\n",
      "reward: -4.0\n",
      "reward: -9.0\n",
      "reward: -4.0\n",
      "reward: -4.0\n",
      "reward: -4.0\n",
      "reward: -4.0\n",
      "reward: -4.0\n",
      "reward: -9.0\n",
      "reward: -4.0\n",
      "reward: -4.0\n",
      "reward: -9.0\n",
      "reward: -4.0\n",
      "reward: -4.0\n",
      "reward: -4.0\n",
      "reward: -4.0\n",
      "reward: -4.0\n",
      "reward: -9.0\n",
      "reward: -4.0\n",
      "reward: -4.0\n",
      "reward: -9.0\n",
      "reward: -4.0\n",
      "reward: -4.0\n",
      "reward: -4.0\n",
      "reward: -4.0\n",
      "reward: -9.0\n",
      "reward: -4.0\n",
      "reward: -4.0\n",
      "reward: -4.0\n",
      "reward: -4.0\n",
      "reward: -9.0\n",
      "reward: -4.0\n",
      "reward: -4.0\n",
      "reward: -4.0\n",
      "reward: -4.0\n",
      "reward: -9.0\n",
      "reward: -4.0\n",
      "reward: -4.0\n",
      "reward: -9.0\n",
      "reward: -4.0\n",
      "reward: -4.0\n",
      "reward: -4.0\n",
      "reward: -4.0\n",
      "reward: -9.0\n",
      "reward: -4.0\n",
      "reward: -4.0\n",
      "reward: -4.0\n",
      "reward: -4.0\n",
      "reward: -4.0\n",
      "reward: -4.0\n",
      "reward: -4.0\n",
      "reward: -9.0\n",
      "reward: -4.0\n",
      "reward: -4.0\n",
      "reward: -4.0\n",
      "reward: -4.0\n"
     ]
    },
    {
     "ename": "ViZDoomUnexpectedExitException",
     "evalue": "Controlled ViZDoom instance exited unexpectedly.",
     "output_type": "error",
     "traceback": [
      "\u001B[1;31m---------------------------------------------------------------------------\u001B[0m",
      "\u001B[1;31mViZDoomUnexpectedExitException\u001B[0m            Traceback (most recent call last)",
      "Cell \u001B[1;32mIn[6], line 10\u001B[0m\n\u001B[0;32m      8\u001B[0m img \u001B[38;5;241m=\u001B[39m state\u001B[38;5;241m.\u001B[39mscreen_buffer\n\u001B[0;32m      9\u001B[0m info \u001B[38;5;241m=\u001B[39m state\u001B[38;5;241m.\u001B[39mgame_variables\n\u001B[1;32m---> 10\u001B[0m reward \u001B[38;5;241m=\u001B[39m game\u001B[38;5;241m.\u001B[39mmake_action(random\u001B[38;5;241m.\u001B[39mchoice(actions),\u001B[38;5;241m4\u001B[39m)\n\u001B[0;32m     11\u001B[0m \u001B[38;5;28mprint\u001B[39m(\u001B[38;5;124m'\u001B[39m\u001B[38;5;124mreward:\u001B[39m\u001B[38;5;124m'\u001B[39m, reward)\n\u001B[0;32m     12\u001B[0m time\u001B[38;5;241m.\u001B[39msleep(\u001B[38;5;241m0.02\u001B[39m)\n",
      "\u001B[1;31mViZDoomUnexpectedExitException\u001B[0m: Controlled ViZDoom instance exited unexpectedly."
     ]
    }
   ],
   "source": [
    "# Loop Through Episodes\n",
    "\n",
    "episodes = 10\n",
    "for episode in range(episodes):\n",
    "    game.new_episode()\n",
    "    while not game.is_episode_finished():\n",
    "        state = game.get_state()\n",
    "        img = state.screen_buffer\n",
    "        info = state.game_variables\n",
    "        reward = game.make_action(random.choice(actions),4)\n",
    "        print('reward:', reward)\n",
    "        time.sleep(0.02)\n",
    "    print('Result:', game.get_total_reward())\n",
    "    time.sleep(2)\n",
    "    "
   ],
   "metadata": {
    "collapsed": false,
    "ExecuteTime": {
     "end_time": "2024-01-18T08:54:42.488107400Z",
     "start_time": "2024-01-18T08:54:25.133301100Z"
    }
   },
   "id": "63ec0e25a1e09864",
   "execution_count": 6
  },
  {
   "cell_type": "code",
   "outputs": [],
   "source": [
    "game.close()"
   ],
   "metadata": {
    "collapsed": false,
    "ExecuteTime": {
     "start_time": "2024-01-18T08:54:42.490678900Z"
    }
   },
   "id": "5e6128303478741",
   "execution_count": null
  },
  {
   "cell_type": "code",
   "outputs": [],
   "source": [],
   "metadata": {
    "collapsed": false
   },
   "id": "1bec2e42d5d68d61"
  },
  {
   "cell_type": "markdown",
   "source": [
    "# 2. Converting it to a Gym Environment"
   ],
   "metadata": {
    "collapsed": false
   },
   "id": "70321e690e4a281b"
  },
  {
   "cell_type": "code",
   "outputs": [
    {
     "name": "stdout",
     "output_type": "stream",
     "text": [
      "Requirement already satisfied: gym in c:\\users\\bunty\\anaconda3\\lib\\site-packages (0.26.2)\n",
      "Requirement already satisfied: numpy>=1.18.0 in c:\\users\\bunty\\anaconda3\\lib\\site-packages (from gym) (1.24.3)\n",
      "Requirement already satisfied: cloudpickle>=1.2.0 in c:\\users\\bunty\\anaconda3\\lib\\site-packages (from gym) (2.2.1)\n",
      "Requirement already satisfied: gym-notices>=0.0.4 in c:\\users\\bunty\\anaconda3\\lib\\site-packages (from gym) (0.0.8)\n"
     ]
    }
   ],
   "source": [
    "!pip install gym"
   ],
   "metadata": {
    "collapsed": false,
    "ExecuteTime": {
     "end_time": "2024-01-18T05:56:04.089404900Z",
     "start_time": "2024-01-18T05:55:53.835351200Z"
    }
   },
   "id": "82d60579e2f369da",
   "execution_count": 39
  },
  {
   "cell_type": "code",
   "outputs": [],
   "source": [
    "from gym import Env\n",
    "\n",
    "from gym.spaces import Discrete, Box\n",
    "\n",
    "import cv2"
   ],
   "metadata": {
    "collapsed": false,
    "ExecuteTime": {
     "end_time": "2024-01-18T08:54:52.641604300Z",
     "start_time": "2024-01-18T08:54:52.028877700Z"
    }
   },
   "id": "cc8eb4816b837112",
   "execution_count": 7
  },
  {
   "cell_type": "code",
   "outputs": [],
   "source": [
    "# Create Vizdoom OpenAI Gym Environment\n",
    "class VizDoomGym(Env): \n",
    "    # Function that is called when we start the env\n",
    "    def __init__(self, render=False): \n",
    "        # Inherit from Env\n",
    "        super().__init__()\n",
    "        # Setup the game \n",
    "        self.game = DoomGame()\n",
    "        self.game.load_config('github/VizDoom/scenarios/defend_the_center.cfg')\n",
    "        \n",
    "        # Render frame logic\n",
    "        if render == False: \n",
    "            self.game.set_window_visible(False)\n",
    "        else:\n",
    "            self.game.set_window_visible(True)\n",
    "        \n",
    "        # Start the game \n",
    "        self.game.init()\n",
    "        \n",
    "        # Create the action space and observation space\n",
    "        self.observation_space = Box(low=0, high=255, shape=(100,160,1), dtype=np.uint8) \n",
    "        self.action_space = Discrete(3)\n",
    "        \n",
    "    # This is how we take a step in the environment\n",
    "    def step(self, action):\n",
    "        # Specify action and take step \n",
    "        actions = np.identity(3)\n",
    "        reward = self.game.make_action(actions[action], 4) \n",
    "        \n",
    "        # Get all the other stuff we need to retun \n",
    "        if self.game.get_state(): \n",
    "            state = self.game.get_state().screen_buffer\n",
    "            state = self.grayscale(state)\n",
    "            ammo = self.game.get_state().game_variables[0]\n",
    "            info = ammo\n",
    "        else: \n",
    "            state = np.zeros(self.observation_space.shape)\n",
    "            info = 0 \n",
    "        \n",
    "        info = {\"info\":info}\n",
    "        done = self.game.is_episode_finished()\n",
    "        \n",
    "        return state, reward, done, info \n",
    "    \n",
    "    # Define how to render the game or environment \n",
    "    def render(): \n",
    "        pass\n",
    "    \n",
    "    # What happens when we start a new game \n",
    "    def reset(self): \n",
    "        self.game.new_episode()\n",
    "        state = self.game.get_state().screen_buffer\n",
    "        return self.grayscale(state)\n",
    "    \n",
    "    # Grayscale the game frame and resize it \n",
    "    def grayscale(self, observation):\n",
    "        gray = cv2.cvtColor(np.moveaxis(observation, 0, -1), cv2.COLOR_BGR2GRAY)\n",
    "        resize = cv2.resize(gray, (160,100), interpolation=cv2.INTER_CUBIC)\n",
    "        state = np.reshape(resize, (100,160,1))\n",
    "        return state\n",
    "    \n",
    "    # Call to close down the game\n",
    "    def close(self): \n",
    "        self.game.close()"
   ],
   "metadata": {
    "collapsed": false,
    "ExecuteTime": {
     "end_time": "2024-01-18T08:54:53.807192400Z",
     "start_time": "2024-01-18T08:54:53.795562500Z"
    }
   },
   "id": "f672c06a0ecf1255",
   "execution_count": 8
  },
  {
   "cell_type": "code",
   "outputs": [],
   "source": [
    "env = VizDoomGym(render=True)"
   ],
   "metadata": {
    "collapsed": false,
    "ExecuteTime": {
     "end_time": "2024-01-18T08:54:57.056799300Z",
     "start_time": "2024-01-18T08:54:56.337206500Z"
    }
   },
   "id": "5a38488c177c7f27",
   "execution_count": 9
  },
  {
   "cell_type": "code",
   "outputs": [],
   "source": [
    "state = env.reset()"
   ],
   "metadata": {
    "collapsed": false
   },
   "id": "7aa9c3176aa09323",
   "execution_count": null
  },
  {
   "cell_type": "code",
   "outputs": [
    {
     "data": {
      "text/plain": "(array([[[10],\n         [ 4],\n         [ 7],\n         ...,\n         [10],\n         [ 6],\n         [10]],\n \n        [[ 6],\n         [ 9],\n         [ 8],\n         ...,\n         [ 5],\n         [ 7],\n         [10]],\n \n        [[ 8],\n         [ 9],\n         [ 8],\n         ...,\n         [10],\n         [ 6],\n         [ 6]],\n \n        ...,\n \n        [[75],\n         [63],\n         [62],\n         ...,\n         [44],\n         [71],\n         [60]],\n \n        [[15],\n         [48],\n         [47],\n         ...,\n         [49],\n         [69],\n         [47]],\n \n        [[22],\n         [14],\n         [26],\n         ...,\n         [57],\n         [37],\n         [39]]], dtype=uint8),\n 0.0,\n False,\n {'info': 26.0})"
     },
     "execution_count": 11,
     "metadata": {},
     "output_type": "execute_result"
    }
   ],
   "source": [
    "env.step(0)"
   ],
   "metadata": {
    "collapsed": false,
    "ExecuteTime": {
     "end_time": "2024-01-18T08:55:06.089523100Z",
     "start_time": "2024-01-18T08:55:06.028444500Z"
    }
   },
   "id": "6549abaf9c6ee1a9",
   "execution_count": 11
  },
  {
   "cell_type": "code",
   "outputs": [],
   "source": [
    "env.close()"
   ],
   "metadata": {
    "collapsed": false,
    "ExecuteTime": {
     "end_time": "2024-01-18T08:55:37.072409400Z",
     "start_time": "2024-01-18T08:55:36.962976300Z"
    }
   },
   "id": "ca65e194b0f1d88c",
   "execution_count": 12
  },
  {
   "cell_type": "code",
   "outputs": [],
   "source": [],
   "metadata": {
    "collapsed": false
   },
   "id": "a80ed1260838cb74"
  }
 ],
 "metadata": {
  "kernelspec": {
   "display_name": "Python 3",
   "language": "python",
   "name": "python3"
  },
  "language_info": {
   "codemirror_mode": {
    "name": "ipython",
    "version": 2
   },
   "file_extension": ".py",
   "mimetype": "text/x-python",
   "name": "python",
   "nbconvert_exporter": "python",
   "pygments_lexer": "ipython2",
   "version": "2.7.6"
  }
 },
 "nbformat": 4,
 "nbformat_minor": 5
}
